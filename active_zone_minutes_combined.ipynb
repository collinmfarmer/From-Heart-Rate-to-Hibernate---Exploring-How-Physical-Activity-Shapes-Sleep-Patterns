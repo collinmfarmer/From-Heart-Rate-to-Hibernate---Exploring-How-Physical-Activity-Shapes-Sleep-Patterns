{
 "cells": [
  {
   "cell_type": "code",
   "execution_count": null,
   "id": "903401dc",
   "metadata": {},
   "outputs": [],
   "source": [
    "# Importing packages \n",
    "import pandas as pd"
   ]
  },
  {
   "cell_type": "code",
   "execution_count": null,
   "id": "bbedce06",
   "metadata": {},
   "outputs": [],
   "source": [
    "# Converting all cleaned Active Zone Minutes CSVs to dataframes\n",
    "AZM_Jan_df = pd.read_csv(\"CSVs/Active Zone Minutes - 2025-01-01_cleaned.csv\", parse_dates=[\"date\"])\n",
    "AZM_Feb_df = pd.read_csv(\"CSVs/Active Zone Minutes - 2025-02-01_cleaned.csv\", parse_dates=[\"date\"])\n",
    "AZM_Mar_df = pd.read_csv(\"CSVs/Active Zone Minutes - 2025-03-01_cleaned.csv\", parse_dates=[\"date\"])\n",
    "AZM_Apr_df = pd.read_csv(\"CSVs/Active Zone Minutes - 2025-04-01_cleaned.csv\", parse_dates=[\"date\"])\n",
    "AZM_May_df = pd.read_csv(\"CSVs/Active Zone Minutes - 2025-05-01_cleaned.csv\", parse_dates=[\"date\"])\n",
    "AZM_Jun_df = pd.read_csv(\"CSVs/Active Zone Minutes - 2025-06-01_cleaned.csv\", parse_dates=[\"date\"])"
   ]
  },
  {
   "cell_type": "code",
   "execution_count": null,
   "id": "09729b95",
   "metadata": {},
   "outputs": [
    {
     "data": {
      "text/html": [
       "<div>\n",
       "<style scoped>\n",
       "    .dataframe tbody tr th:only-of-type {\n",
       "        vertical-align: middle;\n",
       "    }\n",
       "\n",
       "    .dataframe tbody tr th {\n",
       "        vertical-align: top;\n",
       "    }\n",
       "\n",
       "    .dataframe thead th {\n",
       "        text-align: right;\n",
       "    }\n",
       "</style>\n",
       "<table border=\"1\" class=\"dataframe\">\n",
       "  <thead>\n",
       "    <tr style=\"text-align: right;\">\n",
       "      <th></th>\n",
       "      <th>date</th>\n",
       "      <th>active_zone_minutes</th>\n",
       "    </tr>\n",
       "  </thead>\n",
       "  <tbody>\n",
       "    <tr>\n",
       "      <th>0</th>\n",
       "      <td>2025-01-04</td>\n",
       "      <td>37</td>\n",
       "    </tr>\n",
       "    <tr>\n",
       "      <th>1</th>\n",
       "      <td>2025-01-05</td>\n",
       "      <td>22</td>\n",
       "    </tr>\n",
       "    <tr>\n",
       "      <th>2</th>\n",
       "      <td>2025-01-06</td>\n",
       "      <td>64</td>\n",
       "    </tr>\n",
       "    <tr>\n",
       "      <th>3</th>\n",
       "      <td>2025-01-07</td>\n",
       "      <td>79</td>\n",
       "    </tr>\n",
       "    <tr>\n",
       "      <th>4</th>\n",
       "      <td>2025-01-08</td>\n",
       "      <td>7</td>\n",
       "    </tr>\n",
       "    <tr>\n",
       "      <th>...</th>\n",
       "      <td>...</td>\n",
       "      <td>...</td>\n",
       "    </tr>\n",
       "    <tr>\n",
       "      <th>172</th>\n",
       "      <td>2025-06-25</td>\n",
       "      <td>166</td>\n",
       "    </tr>\n",
       "    <tr>\n",
       "      <th>173</th>\n",
       "      <td>2025-06-26</td>\n",
       "      <td>112</td>\n",
       "    </tr>\n",
       "    <tr>\n",
       "      <th>174</th>\n",
       "      <td>2025-06-27</td>\n",
       "      <td>18</td>\n",
       "    </tr>\n",
       "    <tr>\n",
       "      <th>175</th>\n",
       "      <td>2025-06-28</td>\n",
       "      <td>5</td>\n",
       "    </tr>\n",
       "    <tr>\n",
       "      <th>176</th>\n",
       "      <td>2025-06-29</td>\n",
       "      <td>3</td>\n",
       "    </tr>\n",
       "  </tbody>\n",
       "</table>\n",
       "<p>177 rows × 2 columns</p>\n",
       "</div>"
      ],
      "text/plain": [
       "          date  active_zone_minutes\n",
       "0   2025-01-04                   37\n",
       "1   2025-01-05                   22\n",
       "2   2025-01-06                   64\n",
       "3   2025-01-07                   79\n",
       "4   2025-01-08                    7\n",
       "..         ...                  ...\n",
       "172 2025-06-25                  166\n",
       "173 2025-06-26                  112\n",
       "174 2025-06-27                   18\n",
       "175 2025-06-28                    5\n",
       "176 2025-06-29                    3\n",
       "\n",
       "[177 rows x 2 columns]"
      ]
     },
     "execution_count": 3,
     "metadata": {},
     "output_type": "execute_result"
    }
   ],
   "source": [
    "# Combining all dataframes together\n",
    "AZM_df = pd.concat([AZM_Jan_df, AZM_Feb_df, AZM_Mar_df, AZM_Apr_df, AZM_May_df, AZM_Jun_df], ignore_index=True)\n",
    "AZM_df"
   ]
  },
  {
   "cell_type": "code",
   "execution_count": null,
   "id": "1321e9df",
   "metadata": {},
   "outputs": [
    {
     "data": {
      "text/plain": [
       "date                   datetime64[ns]\n",
       "active_zone_minutes             int64\n",
       "dtype: object"
      ]
     },
     "execution_count": 4,
     "metadata": {},
     "output_type": "execute_result"
    }
   ],
   "source": [
    "# Confirmed the date is in the datetime datatype\n",
    "AZM_df.dtypes"
   ]
  },
  {
   "cell_type": "code",
   "execution_count": null,
   "id": "95f224de",
   "metadata": {},
   "outputs": [],
   "source": [
    "# Converting the combined dataframe back into a CSV\n",
    "AZM_df.to_csv(\"active_zone_minutes.csv\", index=False)"
   ]
  }
 ],
 "metadata": {
  "kernelspec": {
   "display_name": "env",
   "language": "python",
   "name": "python3"
  },
  "language_info": {
   "codemirror_mode": {
    "name": "ipython",
    "version": 3
   },
   "file_extension": ".py",
   "mimetype": "text/x-python",
   "name": "python",
   "nbconvert_exporter": "python",
   "pygments_lexer": "ipython3",
   "version": "3.13.3"
  }
 },
 "nbformat": 4,
 "nbformat_minor": 5
}
