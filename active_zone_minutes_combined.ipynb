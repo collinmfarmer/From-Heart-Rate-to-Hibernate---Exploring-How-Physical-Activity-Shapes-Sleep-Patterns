{
 "cells": [
  {
   "cell_type": "code",
   "execution_count": 3,
   "id": "903401dc",
   "metadata": {},
   "outputs": [],
   "source": [
    "import pandas as pd"
   ]
  },
  {
   "cell_type": "code",
   "execution_count": 4,
   "id": "bbedce06",
   "metadata": {},
   "outputs": [],
   "source": [
    "AZM_Jan_df = pd.read_csv(\"Active Zone Minutes - 2025-01-01_cleaned.csv\", parse_dates=[\"date\"])\n",
    "AZM_Feb_df = pd.read_csv(\"Active Zone Minutes - 2025-02-01_cleaned.csv\", parse_dates=[\"date\"])\n",
    "AZM_Mar_df = pd.read_csv(\"Active Zone Minutes - 2025-03-01_cleaned.csv\", parse_dates=[\"date\"])\n",
    "AZM_Apr_df = pd.read_csv(\"Active Zone Minutes - 2025-04-01_cleaned.csv\", parse_dates=[\"date\"])\n",
    "AZM_May_df = pd.read_csv(\"Active Zone Minutes - 2025-05-01_cleaned.csv\", parse_dates=[\"date\"])\n",
    "AZM_Jun_df = pd.read_csv(\"Active Zone Minutes - 2025-06-01_cleaned.csv\", parse_dates=[\"date\"])"
   ]
  },
  {
   "cell_type": "code",
   "execution_count": 5,
   "id": "09729b95",
   "metadata": {},
   "outputs": [
    {
     "data": {
      "text/html": [
       "<div>\n",
       "<style scoped>\n",
       "    .dataframe tbody tr th:only-of-type {\n",
       "        vertical-align: middle;\n",
       "    }\n",
       "\n",
       "    .dataframe tbody tr th {\n",
       "        vertical-align: top;\n",
       "    }\n",
       "\n",
       "    .dataframe thead th {\n",
       "        text-align: right;\n",
       "    }\n",
       "</style>\n",
       "<table border=\"1\" class=\"dataframe\">\n",
       "  <thead>\n",
       "    <tr style=\"text-align: right;\">\n",
       "      <th></th>\n",
       "      <th>date</th>\n",
       "      <th>active_zone_minutes</th>\n",
       "    </tr>\n",
       "  </thead>\n",
       "  <tbody>\n",
       "    <tr>\n",
       "      <th>0</th>\n",
       "      <td>2025-01-04</td>\n",
       "      <td>37</td>\n",
       "    </tr>\n",
       "    <tr>\n",
       "      <th>1</th>\n",
       "      <td>2025-01-05</td>\n",
       "      <td>22</td>\n",
       "    </tr>\n",
       "    <tr>\n",
       "      <th>2</th>\n",
       "      <td>2025-01-06</td>\n",
       "      <td>64</td>\n",
       "    </tr>\n",
       "    <tr>\n",
       "      <th>3</th>\n",
       "      <td>2025-01-07</td>\n",
       "      <td>79</td>\n",
       "    </tr>\n",
       "    <tr>\n",
       "      <th>4</th>\n",
       "      <td>2025-01-08</td>\n",
       "      <td>7</td>\n",
       "    </tr>\n",
       "    <tr>\n",
       "      <th>...</th>\n",
       "      <td>...</td>\n",
       "      <td>...</td>\n",
       "    </tr>\n",
       "    <tr>\n",
       "      <th>143</th>\n",
       "      <td>2025-05-27</td>\n",
       "      <td>38</td>\n",
       "    </tr>\n",
       "    <tr>\n",
       "      <th>144</th>\n",
       "      <td>2025-05-28</td>\n",
       "      <td>105</td>\n",
       "    </tr>\n",
       "    <tr>\n",
       "      <th>145</th>\n",
       "      <td>2025-05-29</td>\n",
       "      <td>24</td>\n",
       "    </tr>\n",
       "    <tr>\n",
       "      <th>146</th>\n",
       "      <td>2025-05-30</td>\n",
       "      <td>4</td>\n",
       "    </tr>\n",
       "    <tr>\n",
       "      <th>147</th>\n",
       "      <td>2025-05-31</td>\n",
       "      <td>8</td>\n",
       "    </tr>\n",
       "  </tbody>\n",
       "</table>\n",
       "<p>148 rows × 2 columns</p>\n",
       "</div>"
      ],
      "text/plain": [
       "          date  active_zone_minutes\n",
       "0   2025-01-04                   37\n",
       "1   2025-01-05                   22\n",
       "2   2025-01-06                   64\n",
       "3   2025-01-07                   79\n",
       "4   2025-01-08                    7\n",
       "..         ...                  ...\n",
       "143 2025-05-27                   38\n",
       "144 2025-05-28                  105\n",
       "145 2025-05-29                   24\n",
       "146 2025-05-30                    4\n",
       "147 2025-05-31                    8\n",
       "\n",
       "[148 rows x 2 columns]"
      ]
     },
     "execution_count": 5,
     "metadata": {},
     "output_type": "execute_result"
    }
   ],
   "source": [
    "AZM_df = pd.concat([AZM_Jan_df, AZM_Feb_df, AZM_Mar_df, AZM_Apr_df, AZM_May_df], ignore_index=True)\n",
    "AZM_df"
   ]
  },
  {
   "cell_type": "code",
   "execution_count": 6,
   "id": "1321e9df",
   "metadata": {},
   "outputs": [
    {
     "data": {
      "text/plain": [
       "date                   datetime64[ns]\n",
       "active_zone_minutes             int64\n",
       "dtype: object"
      ]
     },
     "execution_count": 6,
     "metadata": {},
     "output_type": "execute_result"
    }
   ],
   "source": [
    "AZM_df.dtypes"
   ]
  },
  {
   "cell_type": "code",
   "execution_count": 7,
   "id": "95f224de",
   "metadata": {},
   "outputs": [],
   "source": [
    "AZM_df.to_csv(\"active_zone_minutes.csv\", index=False)"
   ]
  }
 ],
 "metadata": {
  "kernelspec": {
   "display_name": "env",
   "language": "python",
   "name": "python3"
  },
  "language_info": {
   "codemirror_mode": {
    "name": "ipython",
    "version": 3
   },
   "file_extension": ".py",
   "mimetype": "text/x-python",
   "name": "python",
   "nbconvert_exporter": "python",
   "pygments_lexer": "ipython3",
   "version": "3.13.3"
  }
 },
 "nbformat": 4,
 "nbformat_minor": 5
}
