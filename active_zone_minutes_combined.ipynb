{
 "cells": [
  {
   "cell_type": "code",
   "execution_count": null,
   "id": "903401dc",
   "metadata": {},
   "outputs": [],
   "source": [
    "import pandas as pd"
   ]
  },
  {
   "cell_type": "code",
   "execution_count": null,
   "id": "bbedce06",
   "metadata": {},
   "outputs": [],
   "source": [
    "AZM_Jan_df = pd.read_csv(\"CSVs/Active Zone Minutes - 2025-01-01_cleaned.csv\", parse_dates=[\"date\"])\n",
    "AZM_Feb_df = pd.read_csv(\"CSVs/Active Zone Minutes - 2025-02-01_cleaned.csv\", parse_dates=[\"date\"])\n",
    "AZM_Mar_df = pd.read_csv(\"CSVs/Active Zone Minutes - 2025-03-01_cleaned.csv\", parse_dates=[\"date\"])\n",
    "AZM_Apr_df = pd.read_csv(\"CSVs/Active Zone Minutes - 2025-04-01_cleaned.csv\", parse_dates=[\"date\"])\n",
    "AZM_May_df = pd.read_csv(\"CSVs/Active Zone Minutes - 2025-05-01_cleaned.csv\", parse_dates=[\"date\"])\n",
    "AZM_Jun_df = pd.read_csv(\"CSVs/Active Zone Minutes - 2025-06-01_cleaned.csv\", parse_dates=[\"date\"])"
   ]
  },
  {
   "cell_type": "code",
   "execution_count": null,
   "id": "09729b95",
   "metadata": {},
   "outputs": [],
   "source": [
    "AZM_df = pd.concat([AZM_Jan_df, AZM_Feb_df, AZM_Mar_df, AZM_Apr_df, AZM_May_df], ignore_index=True)\n",
    "AZM_df"
   ]
  },
  {
   "cell_type": "code",
   "execution_count": null,
   "id": "1321e9df",
   "metadata": {},
   "outputs": [],
   "source": [
    "AZM_df.dtypes"
   ]
  },
  {
   "cell_type": "code",
   "execution_count": null,
   "id": "95f224de",
   "metadata": {},
   "outputs": [],
   "source": [
    "AZM_df.to_csv(\"active_zone_minutes.csv\", index=False)"
   ]
  }
 ],
 "metadata": {
  "kernelspec": {
   "display_name": "Python 3",
   "language": "python",
   "name": "python3"
  },
  "language_info": {
   "codemirror_mode": {
    "name": "ipython",
    "version": 3
   },
   "file_extension": ".py",
   "mimetype": "text/x-python",
   "name": "python",
   "nbconvert_exporter": "python",
   "pygments_lexer": "ipython3",
   "version": "3.13.3"
  }
 },
 "nbformat": 4,
 "nbformat_minor": 5
}
