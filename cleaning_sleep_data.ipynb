{
 "cells": [
  {
   "cell_type": "code",
   "execution_count": null,
   "id": "71bf6e27",
   "metadata": {},
   "outputs": [],
   "source": [
    "# Importing packages\n",
    "import pandas as pd"
   ]
  },
  {
   "cell_type": "code",
   "execution_count": null,
   "id": "ce4e2967",
   "metadata": {},
   "outputs": [],
   "source": [
    "# Reading in the combined and flattened CSV\n",
    "df = pd.read_csv(\"combined_and_flattened_sleep.csv\")"
   ]
  },
  {
   "cell_type": "code",
   "execution_count": null,
   "id": "99cafc22",
   "metadata": {},
   "outputs": [],
   "source": [
    "# Viewing amount of rows and columns\n",
    "df.shape"
   ]
  },
  {
   "cell_type": "markdown",
   "id": "2ef67715",
   "metadata": {},
   "source": [
    "### Need to rename and/or delete columns\n",
    "\n",
    "1 - logId - **DELETE**\n",
    "<br>\n",
    "2 - dateOfSleep - date_of_sleep\n",
    "<br>\n",
    "3 - startTime - sleep_start_time\n",
    "<br>\n",
    "4 - endTime - sleep_end_time\n",
    "<br>\n",
    "5 - duration - sleep_duration\n",
    "<br>\n",
    "6 - minutesToFallAsleep - **DELETE**\n",
    "<br>\n",
    "7 - minutesAsleep - minutes_asleep\n",
    "<br>\n",
    "8 - minutesAwake - minutes_awake\n",
    "<br>\n",
    "9 - minutesAfterWakeup - minutes_after_wakeup\n",
    "<br>\n",
    "10 - timeInBed - time_in_bed\n",
    "<br>\n",
    "11 - efficiency - sleep_efficiency\n",
    "<br>\n",
    "12 - type - sleep_type\n",
    "<br>\n",
    "13 - infoCode - sleep_info_code\n",
    "<br>\n",
    "14 - logType - **DELETE**\n",
    "<br>\n",
    "15 - mainSleep - main_sleep\n",
    "<br>\n",
    "16 - levels.summary.restless.count - sleep_restless_count\n",
    "<br>\n",
    "17 - levels.summary.restless.minutes - sleep_restless_minutes\n",
    "<br>\n",
    "18 - levels.summary.awake.count - sleep_awake_count\n",
    "<br>\n",
    "19 - levels.summary.awake.minutes - sleep_awake_minutes\n",
    "<br>\n",
    "20 - levels.summary.asleep.count - sleep_asleep_count\n",
    "<br>\n",
    "21 - levels.summary.asleep.minutes - sleep_asleep_minutes\n",
    "<br>\n",
    "22 - levels.data - **DELETE**\n",
    "<br>\n",
    "23 - levels.summary.deep.count - sleep_deep_count\n",
    "<br>\n",
    "24 - levels.summary.deep.minutes - sleep_deep_minutes\n",
    "<br>\n",
    "25 - levels.summary.deep.thirtyDayAvgMinutes - sleep_deep_thirtyDayAvgMinutes\n",
    "<br>\n",
    "26 - levels.summary.wake.count - sleep_wake_count\n",
    "<br>\n",
    "27 - levels.summary.wake.minutes - sleep_wake_minutes\n",
    "<br>\n",
    "28 - levels.summary.wake.thirtyDayAvgMinutes - sleep_wake_thirtyDayAvgMinutes\n",
    "<br>\n",
    "29 - levels.summary.light.count - sleep_light_count\n",
    "<br>\n",
    "30 - levels.summary.light.minutes - sleep_light_minutes\n",
    "<br>\n",
    "31 - levels.summary.light.thirtyDayAvgMinutes - sleep_light_thirtyDayAvgMinutes\n",
    "<br>\n",
    "32 - levels.summary.rem.count - sleep_rem_count\n",
    "<br>\n",
    "33 - levels.summary.rem.minutes - sleep_rem_minutes\n",
    "<br>\n",
    "34 - levels.summary.rem.thirtyDayAvgMinutes - sleep_rem_thirtyDayAvgMinutes\n",
    "<br>\n",
    "35 - levels.shortData - **DELETE**"
   ]
  },
  {
   "cell_type": "code",
   "execution_count": null,
   "id": "8867f7b7",
   "metadata": {},
   "outputs": [],
   "source": [
    "# Dropping the unnecessary columns\n",
    "df_dropped = df.drop([\"logId\", \"minutesToFallAsleep\", \"logType\", \"levels.data\", \"levels.shortData\"],  axis=1)"
   ]
  },
  {
   "cell_type": "code",
   "execution_count": null,
   "id": "8d24e117",
   "metadata": {},
   "outputs": [],
   "source": [
    "# Confirming the look after dropping columns\n",
    "df_dropped.head()"
   ]
  },
  {
   "cell_type": "code",
   "execution_count": null,
   "id": "a3e29011",
   "metadata": {},
   "outputs": [],
   "source": [
    "# Confirming the names of the columns after dropping columns\n",
    "df_dropped.columns"
   ]
  },
  {
   "cell_type": "code",
   "execution_count": null,
   "id": "c66dd0bc",
   "metadata": {},
   "outputs": [],
   "source": [
    "# Confirming the columns after dropping columns\n",
    "df_dropped.info()"
   ]
  },
  {
   "cell_type": "code",
   "execution_count": null,
   "id": "65a5df3c",
   "metadata": {},
   "outputs": [],
   "source": [
    "# Renaming the columns names\n",
    "df_dropped.rename(columns={\"dateOfSleep\": \"date_of_sleep\", \n",
    "                            \"startTime\": \"sleep_start_time\", \n",
    "                            \"endTime\": \"sleep_end_time\", \n",
    "                            \"duration\": \"sleep_duration\", \n",
    "                            \"minutesAsleep\": \"minutes_asleep\", \n",
    "                            \"minutesAwake\": \"minutes_awake\",\n",
    "                            \"minutesAfterWakeup\": \"minutes_after_wakeup\", \n",
    "                            \"timeInBed\": \"time_in_bed\",\n",
    "                            \"efficiency\": \"sleep_efficiency\", \n",
    "                            \"type\": \"sleep_type\",\n",
    "                            \"infoCode\": \"sleep_info_code\", \n",
    "                            \"mainSleep\": \"main_sleep\",\n",
    "                            \"levels.summary.restless.count\": \"sleep_restless_count\", \n",
    "                            \"levels.summary.restless.minutes\": \"sleep_restless_minutes\", \n",
    "                            \"levels.summary.awake.count\": \"sleep_awake_count\", \n",
    "                            \"levels.summary.awake.minutes\": \"sleep_awake_minutes\", \n",
    "                            \"levels.summary.asleep.count\": \"sleep_asleep_count\", \n",
    "                            \"levels.summary.asleep.minutes\": \"sleep_asleep_minutes\", \n",
    "                            \"levels.summary.deep.count\": \"sleep_deep_count\", \n",
    "                            \"levels.summary.deep.minutes\": \"sleep_deep_minutes\",\n",
    "                            \"levels.summary.deep.thirtyDayAvgMinutes\": \"sleep_deep_thirtyDayAvgMinutes\", \n",
    "                            \"levels.summary.wake.count\": \"sleep_wake_count\", \n",
    "                            \"levels.summary.wake.minutes\": \"sleep_wake_minutes\", \n",
    "                            \"levels.summary.wake.thirtyDayAvgMinutes\": \"sleep_wake_thirtyDayAvgMinutes\", \n",
    "                            \"levels.summary.light.count\": \"sleep_light_count\", \n",
    "                            \"levels.summary.light.minutes\": \"sleep_light_minutes\", \n",
    "                            \"levels.summary.light.thirtyDayAvgMinutes\": \"sleep_light_thirtyDayAvgMinutes\", \n",
    "                            \"levels.summary.rem.count\": \"sleep_rem_count\", \n",
    "                            \"levels.summary.rem.minutes\": \"sleep_rem_minutes\", \n",
    "                            \"levels.summary.rem.thirtyDayAvgMinutes\": \"sleep_rem_thirtyDayAvgMinutes\"}\n",
    "                            , inplace=True)"
   ]
  },
  {
   "cell_type": "code",
   "execution_count": null,
   "id": "3b11011e",
   "metadata": {},
   "outputs": [],
   "source": [
    "# Confirming the names of the columns after renaming columns\n",
    "df_dropped.columns"
   ]
  },
  {
   "cell_type": "code",
   "execution_count": null,
   "id": "e653616b",
   "metadata": {},
   "outputs": [],
   "source": [
    "# Confirming the head after dropping columns \n",
    "df_dropped.head()"
   ]
  },
  {
   "cell_type": "code",
   "execution_count": null,
   "id": "f06fa723",
   "metadata": {},
   "outputs": [],
   "source": [
    "# Confirming the dytpes after dropping columns \n",
    "df_dropped.dtypes"
   ]
  },
  {
   "cell_type": "code",
   "execution_count": null,
   "id": "6e63309a",
   "metadata": {},
   "outputs": [],
   "source": [
    "# Converting the date_of_sleep column to datetime\n",
    "df_dropped[\"date_of_sleep\"] = pd.to_datetime(df_dropped[\"date_of_sleep\"])"
   ]
  },
  {
   "cell_type": "code",
   "execution_count": null,
   "id": "b20204de",
   "metadata": {},
   "outputs": [],
   "source": [
    "# Confirming the dytpes after converting date_of_sleep column \n",
    "df_dropped.dtypes"
   ]
  },
  {
   "cell_type": "code",
   "execution_count": null,
   "id": "419c8378",
   "metadata": {},
   "outputs": [],
   "source": [
    "# Shifted the date_of_sleep column by 1 day to line up with the day of activity\n",
    "df_dropped[\"date_of_sleep\"] = df_dropped[\"date_of_sleep\"] - pd.Timedelta(days=1)"
   ]
  },
  {
   "cell_type": "code",
   "execution_count": null,
   "id": "11cd5c8f",
   "metadata": {},
   "outputs": [],
   "source": [
    "# Confirming the shift of the date_of_sleep column\n",
    "df_dropped.head()"
   ]
  },
  {
   "cell_type": "code",
   "execution_count": null,
   "id": "8b1cc243",
   "metadata": {},
   "outputs": [],
   "source": [
    "# Sort by date_of_sleep column\n",
    "df = df_dropped.sort_values(by=\"date_of_sleep\")"
   ]
  },
  {
   "cell_type": "code",
   "execution_count": null,
   "id": "1b0b3374",
   "metadata": {},
   "outputs": [],
   "source": [
    "# Confirming sort\n",
    "df.head()"
   ]
  },
  {
   "cell_type": "code",
   "execution_count": null,
   "id": "69adb10f",
   "metadata": {},
   "outputs": [],
   "source": [
    "# Confirmed number of main_sleep true vs false\n",
    "df[\"main_sleep\"].value_counts()"
   ]
  },
  {
   "cell_type": "code",
   "execution_count": null,
   "id": "c411913b",
   "metadata": {},
   "outputs": [],
   "source": [
    "# Confirmed number of Sleep Code 0\n",
    "df[\"sleep_info_code\"].value_counts()"
   ]
  },
  {
   "cell_type": "code",
   "execution_count": null,
   "id": "5c1d8d02",
   "metadata": {},
   "outputs": [],
   "source": [
    "# Confirmed number of sleep_type stages vs classic\n",
    "df[\"sleep_type\"].value_counts()"
   ]
  },
  {
   "cell_type": "code",
   "execution_count": null,
   "id": "5ffdf022",
   "metadata": {},
   "outputs": [],
   "source": [
    "# Create new cleaned CSV for the sleep data\n",
    "df.to_csv(\"cleaned_sleep.csv\", index=False)"
   ]
  }
 ],
 "metadata": {
  "kernelspec": {
   "display_name": "env",
   "language": "python",
   "name": "python3"
  },
  "language_info": {
   "codemirror_mode": {
    "name": "ipython",
    "version": 3
   },
   "file_extension": ".py",
   "mimetype": "text/x-python",
   "name": "python",
   "nbconvert_exporter": "python",
   "pygments_lexer": "ipython3",
   "version": "3.13.3"
  }
 },
 "nbformat": 4,
 "nbformat_minor": 5
}
