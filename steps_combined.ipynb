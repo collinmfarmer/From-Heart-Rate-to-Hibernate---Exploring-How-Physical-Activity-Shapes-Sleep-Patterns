{
 "cells": [
  {
   "cell_type": "code",
   "execution_count": 1,
   "id": "56caaed5",
   "metadata": {},
   "outputs": [],
   "source": [
    "# Importing packages \n",
    "import pandas as pd"
   ]
  },
  {
   "cell_type": "code",
   "execution_count": 2,
   "id": "e9ebbbcd",
   "metadata": {},
   "outputs": [],
   "source": [
    "# Converting all cleaned Steps CSVs to dataframes\n",
    "Steps_Jan_df = pd.read_csv(\"CSVs/steps_2025-01-01_cleaned.csv\", parse_dates=[\"date\"])\n",
    "Steps_Feb_df = pd.read_csv(\"CSVs/steps_2025-02-01_cleaned.csv\", parse_dates=[\"date\"])\n",
    "Steps_Mar_df = pd.read_csv(\"CSVs/steps_2025-03-01_cleaned.csv\", parse_dates=[\"date\"])\n",
    "Steps_Apr_df = pd.read_csv(\"CSVs/steps_2025-04-01_cleaned.csv\", parse_dates=[\"date\"])\n",
    "Steps_May_df = pd.read_csv(\"CSVs/steps_2025-05-01_cleaned.csv\", parse_dates=[\"date\"])\n",
    "Steps_Jun_df = pd.read_csv(\"CSVs/steps_2025-06-01_cleaned.csv\", parse_dates=[\"date\"])\n"
   ]
  },
  {
   "cell_type": "code",
   "execution_count": 3,
   "id": "0d850696",
   "metadata": {},
   "outputs": [
    {
     "data": {
      "text/html": [
       "<div>\n",
       "<style scoped>\n",
       "    .dataframe tbody tr th:only-of-type {\n",
       "        vertical-align: middle;\n",
       "    }\n",
       "\n",
       "    .dataframe tbody tr th {\n",
       "        vertical-align: top;\n",
       "    }\n",
       "\n",
       "    .dataframe thead th {\n",
       "        text-align: right;\n",
       "    }\n",
       "</style>\n",
       "<table border=\"1\" class=\"dataframe\">\n",
       "  <thead>\n",
       "    <tr style=\"text-align: right;\">\n",
       "      <th></th>\n",
       "      <th>date</th>\n",
       "      <th>total_steps_taken</th>\n",
       "    </tr>\n",
       "  </thead>\n",
       "  <tbody>\n",
       "    <tr>\n",
       "      <th>0</th>\n",
       "      <td>2025-01-04</td>\n",
       "      <td>5615</td>\n",
       "    </tr>\n",
       "    <tr>\n",
       "      <th>1</th>\n",
       "      <td>2025-01-05</td>\n",
       "      <td>8105</td>\n",
       "    </tr>\n",
       "    <tr>\n",
       "      <th>2</th>\n",
       "      <td>2025-01-06</td>\n",
       "      <td>5923</td>\n",
       "    </tr>\n",
       "    <tr>\n",
       "      <th>3</th>\n",
       "      <td>2025-01-07</td>\n",
       "      <td>20018</td>\n",
       "    </tr>\n",
       "    <tr>\n",
       "      <th>4</th>\n",
       "      <td>2025-01-08</td>\n",
       "      <td>13712</td>\n",
       "    </tr>\n",
       "    <tr>\n",
       "      <th>...</th>\n",
       "      <td>...</td>\n",
       "      <td>...</td>\n",
       "    </tr>\n",
       "    <tr>\n",
       "      <th>172</th>\n",
       "      <td>2025-06-25</td>\n",
       "      <td>9272</td>\n",
       "    </tr>\n",
       "    <tr>\n",
       "      <th>173</th>\n",
       "      <td>2025-06-26</td>\n",
       "      <td>11772</td>\n",
       "    </tr>\n",
       "    <tr>\n",
       "      <th>174</th>\n",
       "      <td>2025-06-27</td>\n",
       "      <td>7560</td>\n",
       "    </tr>\n",
       "    <tr>\n",
       "      <th>175</th>\n",
       "      <td>2025-06-28</td>\n",
       "      <td>2799</td>\n",
       "    </tr>\n",
       "    <tr>\n",
       "      <th>176</th>\n",
       "      <td>2025-06-29</td>\n",
       "      <td>1927</td>\n",
       "    </tr>\n",
       "  </tbody>\n",
       "</table>\n",
       "<p>177 rows × 2 columns</p>\n",
       "</div>"
      ],
      "text/plain": [
       "          date  total_steps_taken\n",
       "0   2025-01-04               5615\n",
       "1   2025-01-05               8105\n",
       "2   2025-01-06               5923\n",
       "3   2025-01-07              20018\n",
       "4   2025-01-08              13712\n",
       "..         ...                ...\n",
       "172 2025-06-25               9272\n",
       "173 2025-06-26              11772\n",
       "174 2025-06-27               7560\n",
       "175 2025-06-28               2799\n",
       "176 2025-06-29               1927\n",
       "\n",
       "[177 rows x 2 columns]"
      ]
     },
     "execution_count": 3,
     "metadata": {},
     "output_type": "execute_result"
    }
   ],
   "source": [
    "# Combining all dataframes together\n",
    "Steps_df = pd.concat([Steps_Jan_df, Steps_Feb_df, Steps_Mar_df, Steps_Apr_df, Steps_May_df, Steps_Jun_df], ignore_index=True)\n",
    "Steps_df"
   ]
  },
  {
   "cell_type": "code",
   "execution_count": 4,
   "id": "681485f1",
   "metadata": {},
   "outputs": [
    {
     "data": {
      "text/plain": [
       "date                 datetime64[ns]\n",
       "total_steps_taken             int64\n",
       "dtype: object"
      ]
     },
     "execution_count": 4,
     "metadata": {},
     "output_type": "execute_result"
    }
   ],
   "source": [
    "# Confirmed the date is in the datetime datatype\n",
    "Steps_df.dtypes"
   ]
  },
  {
   "cell_type": "code",
   "execution_count": 5,
   "id": "76c0d7e8",
   "metadata": {},
   "outputs": [],
   "source": [
    "# Converting the combined dataframe back into a CSV\n",
    "Steps_df.to_csv(\"steps.csv\", index=False)"
   ]
  }
 ],
 "metadata": {
  "kernelspec": {
   "display_name": "Python 3",
   "language": "python",
   "name": "python3"
  },
  "language_info": {
   "codemirror_mode": {
    "name": "ipython",
    "version": 3
   },
   "file_extension": ".py",
   "mimetype": "text/x-python",
   "name": "python",
   "nbconvert_exporter": "python",
   "pygments_lexer": "ipython3",
   "version": "3.13.3"
  }
 },
 "nbformat": 4,
 "nbformat_minor": 5
}
